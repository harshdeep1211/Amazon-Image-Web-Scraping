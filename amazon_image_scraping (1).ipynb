{
  "nbformat": 4,
  "nbformat_minor": 0,
  "metadata": {
    "colab": {
      "name": "amazon_image_scraping.ipynb",
      "provenance": [],
      "collapsed_sections": []
    },
    "kernelspec": {
      "name": "python3",
      "display_name": "Python 3"
    },
    "language_info": {
      "name": "python"
    }
  },
  "cells": [
    {
      "cell_type": "markdown",
      "metadata": {
        "id": "LkRjcIPQMHFx"
      },
      "source": [
        "# Install autoscraper library"
      ]
    },
    {
      "cell_type": "code",
      "metadata": {
        "colab": {
          "base_uri": "https://localhost:8080/"
        },
        "id": "nDjlLipWLNyh",
        "outputId": "63314f11-617a-4d45-e266-3b3b47c8dce9"
      },
      "source": [
        "pip install autoscraper\n"
      ],
      "execution_count": null,
      "outputs": [
        {
          "output_type": "stream",
          "text": [
            "Collecting autoscraper\n",
            "  Downloading https://files.pythonhosted.org/packages/50/44/553afbb7624aaa16e71546196c1f3beb170dd555a2822785889a9da5c2e7/autoscraper-1.1.12-py3-none-any.whl\n",
            "Requirement already satisfied: lxml in /usr/local/lib/python3.7/dist-packages (from autoscraper) (4.2.6)\n",
            "Requirement already satisfied: bs4 in /usr/local/lib/python3.7/dist-packages (from autoscraper) (0.0.1)\n",
            "Requirement already satisfied: requests in /usr/local/lib/python3.7/dist-packages (from autoscraper) (2.23.0)\n",
            "Requirement already satisfied: beautifulsoup4 in /usr/local/lib/python3.7/dist-packages (from bs4->autoscraper) (4.6.3)\n",
            "Requirement already satisfied: certifi>=2017.4.17 in /usr/local/lib/python3.7/dist-packages (from requests->autoscraper) (2020.12.5)\n",
            "Requirement already satisfied: chardet<4,>=3.0.2 in /usr/local/lib/python3.7/dist-packages (from requests->autoscraper) (3.0.4)\n",
            "Requirement already satisfied: urllib3!=1.25.0,!=1.25.1,<1.26,>=1.21.1 in /usr/local/lib/python3.7/dist-packages (from requests->autoscraper) (1.24.3)\n",
            "Requirement already satisfied: idna<3,>=2.5 in /usr/local/lib/python3.7/dist-packages (from requests->autoscraper) (2.10)\n",
            "Installing collected packages: autoscraper\n",
            "Successfully installed autoscraper-1.1.12\n"
          ],
          "name": "stdout"
        }
      ]
    },
    {
      "cell_type": "markdown",
      "metadata": {
        "id": "RdRbFLoOMNcz"
      },
      "source": [
        "# Load libraries"
      ]
    },
    {
      "cell_type": "code",
      "metadata": {
        "id": "2WR530XDMxOQ"
      },
      "source": [
        "from autoscraper import AutoScraper\n",
        "import pandas as pd"
      ],
      "execution_count": null,
      "outputs": []
    },
    {
      "cell_type": "markdown",
      "metadata": {
        "id": "uqySwvyJMTFW"
      },
      "source": [
        "# Defining url and what data I want \n"
      ]
    },
    {
      "cell_type": "code",
      "metadata": {
        "id": "KsyVv7fjNELV"
      },
      "source": [
        "url = \"https://www.amazon.in/s?k=redmi+note&rh=n%3A1389401031&ref=nb_sb_noss\"\n",
        "wanted_list = [\"https://m.media-amazon.com/images/I/71QY6JV6FhS._AC_UY218_.jpg\" , \"Redmi Note 9 (Pebble Grey, 4GB RAM 64GB Storage) - 48MP Quad Camera & Full HD+ Display\" , \"₹10,999\" , \"61,513\" ]"
      ],
      "execution_count": null,
      "outputs": []
    },
    {
      "cell_type": "markdown",
      "metadata": {
        "id": "GrGNGR-zMmRH"
      },
      "source": [
        "# Creating scraper object"
      ]
    },
    {
      "cell_type": "code",
      "metadata": {
        "id": "_tEFM5jKOVjG"
      },
      "source": [
        "scraper = AutoScraper()\n",
        "result = scraper.build(url,wanted_list)\n"
      ],
      "execution_count": null,
      "outputs": []
    },
    {
      "cell_type": "markdown",
      "metadata": {
        "id": "H18Qh00DMs83"
      },
      "source": [
        "# Finding similar data"
      ]
    },
    {
      "cell_type": "code",
      "metadata": {
        "colab": {
          "base_uri": "https://localhost:8080/"
        },
        "id": "RaqQGpHdOluO",
        "outputId": "053641cb-eaea-4365-d898-db5be82fd864"
      },
      "source": [
        "data = scraper.get_result_similar(url,grouped=True)\n",
        "print(data)"
      ],
      "execution_count": null,
      "outputs": [
        {
          "output_type": "stream",
          "text": [
            "{'rule_zhl0': ['https://m.media-amazon.com/images/I/71QY6JV6FhS._AC_UY218_.jpg', 'https://m.media-amazon.com/images/I/71X5I1cVfbL._AC_UY218_.jpg', 'https://m.media-amazon.com/images/I/71OGzLCrjZS._AC_UY218_.jpg', 'https://m.media-amazon.com/images/I/71X5I1cVfbL._AC_UY218_.jpg', 'https://m.media-amazon.com/images/I/71-BcSc9rhS._AC_UY218_.jpg', 'https://m.media-amazon.com/images/I/71X5I1cVfbL._AC_UY218_.jpg', 'https://m.media-amazon.com/images/I/715t-uJnjMS._AC_UY218_.jpg', 'https://m.media-amazon.com/images/I/71X5I1cVfbL._AC_UY218_.jpg', 'https://m.media-amazon.com/images/I/81fwKtv0VHL._AC_UY218_.jpg', 'https://m.media-amazon.com/images/I/71SSmaLA7xS._AC_UY218_.jpg', 'https://m.media-amazon.com/images/I/71RkH6EV5ES._AC_UY218_.jpg', 'https://m.media-amazon.com/images/I/71hyDUT-n6S._AC_UY218_.jpg', 'https://m.media-amazon.com/images/I/71usqWEJleL._AC_UY218_.jpg', 'https://m.media-amazon.com/images/I/71mAiGJq5RS._AC_UY218_.jpg', 'https://m.media-amazon.com/images/I/717Ba2P51FS._AC_UY218_.jpg', 'https://m.media-amazon.com/images/I/71A9Vo1BatL._AC_UY218_.jpg', 'https://m.media-amazon.com/images/I/71A9Vo1BatL._AC_UY218_.jpg', 'https://m.media-amazon.com/images/I/71hyDUT-n6S._AC_UY218_.jpg', 'https://m.media-amazon.com/images/I/71BiT9Cqz+S._AC_UY218_.jpg', 'https://m.media-amazon.com/images/I/71yoFXHS7nS._AC_UY218_.jpg', 'https://m.media-amazon.com/images/I/81fwKtv0VHL._AC_UY218_.jpg', 'https://m.media-amazon.com/images/I/51V7isuZPuL._AC_UY218_.jpg', 'https://m.media-amazon.com/images/I/71gDtFs8PvS._AC_UY218_.jpg', 'https://m.media-amazon.com/images/I/717Ba2P51FS._AC_UY218_.jpg'], 'rule_qxjp': ['Redmi Note 10 (Shadow Black, 4GB RAM, 64GB Storage) - Amoled Dot Display | 48MP Sony Sensor IMX582 | Snapdragon 678 Processor', 'Redmi Note 9 (Pebble Grey, 4GB RAM 64GB Storage) - 48MP Quad Camera & Full HD+ Display', 'Redmi Note 10 (Aqua Green, 4GB RAM, 64GB Storage)', 'Redmi Note 9 (Arctic White, 4GB RAM, 64GB Storage) - 48MP Quad Camera & Full HD+ Display', 'Redmi Note 10 (Aqua Green, 6GB RAM, 128GB Storage) - Amoled Dot Display | 48MP Sony Sensor IMX582 | Snapdragon 678 Processor', 'Redmi Note 9 Shadow Black, 4GB RAM, 64GB Storage', 'Redmi Note 10 (Shadow Black, 6GB RAM, 128GB Storage)', 'Redmi Note 9 (Aqua Green, 4GB RAM, 64GB Storage) - 48MP Quad Camera & Full HD+ Display', 'Redmi Note 9 Pro (Interstellar Black, 4GB RAM, 64GB Storage)- Latest 8nm Snapdragon 720G & Alexa Hands-Free', 'Redmi Note 10 (Frost White, 4GB RAM, 64GB Storage) - Amoled Dot Display | 48MP Sony Sensor IMX582 | Snapdragon 678 Processor', 'Redmi Note 10 Pro (Vintage Bronze, 6GB RAM, 128GB Storage) -120Hz Super Amoled Display | 64MP Camera with 5MP Super Tele-Macro, Normal', 'Redmi Note 10 Pro (Dark Night, 8GB RAM, 128GB Storage) -120hz Super Amoled Display | 64MP with 5MP Super Tele-Macro, Normal', 'Redmi Note 9 Pro Max (Champagne Gold, 6GB RAM, 64GB Storage) - 64MP Quad Camera & Latest 8nm Snapdragon 720G & Alexa Hands-Free', 'Redmi Note 10S (Shadow Black, 6GB RAM, 128GB Storage) - Super Amoled Display | 64 MP Quad Camera', 'Redmi Note 10S (Deep Sea Blue, 6GB RAM, 64GB Storage) - Super Amoled Display | 64 MP Quad Camera', 'Redmi 9 (Sky Blue, 4GB RAM, 64GB Storage)| 5000 mAh| 2.3GHz Mediatek Helio G35 Octa core Processor', 'Redmi 9 (Sporty Orange, 4GB RAM, 64GB Storage) | 5000 mAh| 2.3GHz Mediatek Helio G35 Octa core Processor', 'Redmi Note 10 Pro (Dark Night, 6GB RAM, 64GB Storage) -120Hz Super Amoled Display | 64MP with 5MP Super Tele-Macro, Normal', 'Redmi Note 10S (Frost White, 6GB RAM, 64GB Storage) - Super Amoled Display | 64 MP Quad Camera', 'Redmi Note 10 (Frost White, 6GB RAM, 128GB Storage)', 'Redmi Note 9 Pro (Interstellar Black, 4GB RAM, 128GB Storage) - Latest 8nm Snapdragon 720G & Alexa Hands-Free', '(Renewed) Redmi Note 7S (Onyx Black, 32 GB) (3 GB RAM)', 'Redmi Note 10 Pro (Glacial Blue, 6GB RAM, 64GB Storage) -120hz Super Amoled Display|64MP with 5mp Super Tele- Marcro, Normal', 'Redmi Note 10S (Deep Sea Blue, 6GB RAM, 128GB Storage) - Super Amoled Display | 64 MP Quad Camera'], 'rule_9j6b': ['Redmi Note 10 (Shadow Black, 4GB RAM, 64GB Storage) - Amoled Dot Display | 48MP Sony Sensor IMX582 | Snapdragon 678 Processor', 'Redmi Note 9 (Pebble Grey, 4GB RAM 64GB Storage) - 48MP Quad Camera & Full HD+ Display', 'Redmi Note 10 (Aqua Green, 4GB RAM, 64GB Storage)', 'Redmi Note 9 (Arctic White, 4GB RAM, 64GB Storage) - 48MP Quad Camera & Full HD+ Display', 'Redmi Note 10 (Aqua Green, 6GB RAM, 128GB Storage) - Amoled Dot Display | 48MP Sony Sensor IMX582 | Snapdragon 678 Processor', 'Redmi Note 9 Shadow Black, 4GB RAM, 64GB Storage', 'Redmi Note 10 (Shadow Black, 6GB RAM, 128GB Storage)', 'Redmi Note 9 (Aqua Green, 4GB RAM, 64GB Storage) - 48MP Quad Camera & Full HD+ Display', 'Redmi Note 9 Pro (Interstellar Black, 4GB RAM, 64GB Storage)- Latest 8nm Snapdragon 720G & Alexa Hands-Free', 'Redmi Note 10 (Frost White, 4GB RAM, 64GB Storage) - Amoled Dot Display | 48MP Sony Sensor IMX582 | Snapdragon 678 Processor', 'Redmi Note 10 Pro (Vintage Bronze, 6GB RAM, 128GB Storage) -120Hz Super Amoled Display | 64MP Camera with 5MP Super Tele-M...', 'Redmi Note 10 Pro (Dark Night, 8GB RAM, 128GB Storage) -120hz Super Amoled Display | 64MP with 5MP Super Tele-Macro, Normal', 'Redmi Note 9 Pro Max (Champagne Gold, 6GB RAM, 64GB Storage) - 64MP Quad Camera & Latest 8nm Snapdragon 720G & Alexa Hand...', 'Redmi Note 10S (Shadow Black, 6GB RAM, 128GB Storage) - Super Amoled Display | 64 MP Quad Camera', 'Redmi Note 10S (Deep Sea Blue, 6GB RAM, 64GB Storage) - Super Amoled Display | 64 MP Quad Camera', 'Redmi 9 (Sky Blue, 4GB RAM, 64GB Storage)| 5000 mAh| 2.3GHz Mediatek Helio G35 Octa core Processor', 'Redmi 9 (Sporty Orange, 4GB RAM, 64GB Storage) | 5000 mAh| 2.3GHz Mediatek Helio G35 Octa core Processor', 'Redmi Note 10 Pro (Dark Night, 6GB RAM, 64GB Storage) -120Hz Super Amoled Display | 64MP with 5MP Super Tele-Macro, Normal', 'Redmi Note 10S (Frost White, 6GB RAM, 64GB Storage) - Super Amoled Display | 64 MP Quad Camera', 'Redmi Note 10 (Frost White, 6GB RAM, 128GB Storage)', 'Redmi Note 9 Pro (Interstellar Black, 4GB RAM, 128GB Storage) - Latest 8nm Snapdragon 720G & Alexa Hands-Free', '(Renewed) Redmi Note 7S (Onyx Black, 32 GB) (3 GB RAM)', 'Redmi Note 10 Pro (Glacial Blue, 6GB RAM, 64GB Storage) -120hz Super Amoled Display|64MP with 5mp Super Tele- Marcro, Normal', 'Redmi Note 10S (Deep Sea Blue, 6GB RAM, 128GB Storage) - Super Amoled Display | 64 MP Quad Camera'], 'rule_qxty': ['₹12,499', '₹15,999', '₹10,999', '₹14,999', '₹12,499', '₹15,999', '₹10,999', '₹14,999', '₹14,499', '₹17,999', '₹10,999', '₹14,999', '₹14,499', '₹17,999', '₹10,999', '₹14,999', '₹12,999', '₹16,999', '₹12,499', '₹15,999', '₹17,499', '₹19,999', '₹18,999', '₹21,999', '₹14,999', '₹18,999', '₹15,999', '₹18,999', '₹14,999', '₹16,999', '₹8,799', '₹10,999', '₹8,799', '₹10,999', '₹15,999', '₹17,999', '₹14,999', '₹16,999', '₹14,499', '₹17,999', '₹13,999', '₹17,999', '₹8,521', '₹12,999', '₹15,999', '₹17,999', '₹15,999', '₹18,999'], 'rule_e8qt': ['₹12,499', '₹15,999', '₹10,999', '₹14,999', '₹12,499', '₹15,999', '₹10,999', '₹14,999', '₹14,499', '₹17,999', '₹10,999', '₹14,999', '₹14,499', '₹17,999', '₹10,999', '₹14,999', '₹12,999', '₹16,999', '₹12,499', '₹15,999', '₹17,499', '₹19,999', '₹18,999', '₹21,999', '₹14,999', '₹18,999', '₹15,999', '₹18,999', '₹14,999', '₹16,999', '₹8,799', '₹10,999', '₹8,799', '₹10,999', '₹15,999', '₹17,999', '₹14,999', '₹16,999', '₹14,499', '₹17,999', '₹13,999', '₹17,999', '₹8,521', '₹12,999', '₹15,999', '₹17,999', '₹15,999', '₹18,999'], 'rule_syik': ['₹12,499', '₹15,999', '₹10,999', '₹14,999', '₹12,499', '₹15,999', '₹10,999', '₹14,999', '₹14,499', '₹17,999', '₹10,999', '₹14,999', '₹14,499', '₹17,999', '₹10,999', '₹14,999', '₹12,999', '₹16,999', '₹12,499', '₹15,999', '₹17,499', '₹19,999', '₹18,999', '₹21,999', '₹14,999', '₹18,999', '₹15,999', '₹18,999', '₹14,999', '₹16,999', '₹8,799', '₹10,999', '₹8,799', '₹10,999', '₹15,999', '₹17,999', '₹14,999', '₹16,999', '₹14,499', '₹17,999', '₹13,999', '₹17,999', '₹8,521', '₹12,999', '₹15,999', '₹17,999', '₹15,999', '₹18,999'], 'rule_uz0h': ['₹12,499', '₹15,999', '₹10,999', '₹14,999', '₹12,499', '₹15,999', '₹10,999', '₹14,999', '₹14,499', '₹17,999', '₹10,999', '₹14,999', '₹14,499', '₹17,999', '₹10,999', '₹14,999', '₹12,999', '₹16,999', '₹12,499', '₹15,999', '₹17,499', '₹19,999', '₹18,999', '₹21,999', '₹14,999', '₹18,999', '₹15,999', '₹18,999', '₹14,999', '₹16,999', '₹8,799', '₹10,999', '₹8,799', '₹10,999', '₹15,999', '₹17,999', '₹14,999', '₹16,999', '₹14,499', '₹17,999', '₹13,999', '₹17,999', '₹8,521', '₹12,999', '₹15,999', '₹17,999', '₹15,999', '₹18,999'], 'rule_gjh5': ['₹12,499', '₹15,999', '₹10,999', '₹14,999', '₹12,499', '₹15,999', '₹10,999', '₹14,999', '₹14,499', '₹17,999', '₹10,999', '₹14,999', '₹14,499', '₹17,999', '₹10,999', '₹14,999', '₹12,999', '₹16,999', '₹12,499', '₹15,999', '₹17,499', '₹19,999', '₹18,999', '₹21,999', '₹14,999', '₹18,999', '₹15,999', '₹18,999', '₹14,999', '₹16,999', '₹8,799', '₹10,999', '₹8,799', '₹10,999', '₹15,999', '₹17,999', '₹14,999', '₹16,999', '₹14,499', '₹17,999', '₹13,999', '₹17,999', '₹8,521', '₹12,999', '₹15,999', '₹17,999', '₹15,999', '₹18,999'], 'rule_998p': ['₹12,499', '₹15,999', '₹10,999', '₹14,999', '₹12,499', '₹15,999', '₹10,999', '₹14,999', '₹14,499', '₹17,999', '₹10,999', '₹14,999', '₹14,499', '₹17,999', '₹10,999', '₹14,999', '₹12,999', '₹16,999', '₹12,499', '₹15,999', '₹17,499', '₹19,999', '₹18,999', '₹21,999', '₹14,999', '₹18,999', '₹15,999', '₹18,999', '₹14,999', '₹16,999', '₹8,799', '₹10,999', '₹8,799', '₹10,999', '₹15,999', '₹17,999', '₹14,999', '₹16,999', '₹14,499', '₹17,999', '₹13,999', '₹17,999', '₹8,521', '₹12,999', '₹15,999', '₹17,999', '₹15,999', '₹18,999'], 'rule_yud0': ['₹12,499', '₹15,999', '₹10,999', '₹14,999', '₹12,499', '₹15,999', '₹10,999', '₹14,999', '₹14,499', '₹17,999', '₹10,999', '₹14,999', '₹14,499', '₹17,999', '₹10,999', '₹14,999', '₹12,999', '₹16,999', '₹12,499', '₹15,999', '₹17,499', '₹19,999', '₹18,999', '₹21,999', '₹14,999', '₹18,999', '₹15,999', '₹18,999', '₹14,999', '₹16,999', '₹8,799', '₹10,999', '₹8,799', '₹10,999', '₹15,999', '₹17,999', '₹14,999', '₹16,999', '₹14,499', '₹17,999', '₹13,999', '₹17,999', '₹8,521', '₹12,999', '₹15,999', '₹17,999', '₹15,999', '₹18,999'], 'rule_w1k9': ['₹12,499', '₹15,999', '₹10,999', '₹14,999', '₹12,499', '₹15,999', '₹10,999', '₹14,999', '₹14,499', '₹17,999', '₹10,999', '₹14,999', '₹14,499', '₹17,999', '₹10,999', '₹14,999', '₹12,999', '₹16,999', '₹12,499', '₹15,999', '₹17,499', '₹19,999', '₹18,999', '₹21,999', '₹14,999', '₹18,999', '₹15,999', '₹18,999', '₹14,999', '₹16,999', '₹8,799', '₹10,999', '₹8,799', '₹10,999', '₹15,999', '₹17,999', '₹14,999', '₹16,999', '₹14,499', '₹17,999', '₹13,999', '₹17,999', '₹8,521', '₹12,999', '₹15,999', '₹17,999', '₹15,999', '₹18,999'], 'rule_2vog': ['₹12,499', '₹15,999', '₹10,999', '₹14,999', '₹12,499', '₹15,999', '₹10,999', '₹14,999', '₹14,499', '₹17,999', '₹10,999', '₹14,999', '₹14,499', '₹17,999', '₹10,999', '₹14,999', '₹12,999', '₹16,999', '₹12,499', '₹15,999', '₹17,499', '₹19,999', '₹18,999', '₹21,999', '₹14,999', '₹18,999', '₹15,999', '₹18,999', '₹14,999', '₹16,999', '₹8,799', '₹10,999', '₹8,799', '₹10,999', '₹15,999', '₹17,999', '₹14,999', '₹16,999', '₹14,499', '₹17,999', '₹13,999', '₹17,999', '₹8,521', '₹12,999', '₹15,999', '₹17,999', '₹15,999', '₹18,999'], 'rule_cfpg': ['₹12,499', '₹15,999', '₹10,999', '₹14,999', '₹12,499', '₹15,999', '₹10,999', '₹14,999', '₹14,499', '₹17,999', '₹10,999', '₹14,999', '₹14,499', '₹17,999', '₹10,999', '₹14,999', '₹12,999', '₹16,999', '₹12,499', '₹15,999', '₹17,499', '₹19,999', '₹18,999', '₹21,999', '₹14,999', '₹18,999', '₹15,999', '₹18,999', '₹14,999', '₹16,999', '₹8,799', '₹10,999', '₹8,799', '₹10,999', '₹15,999', '₹17,999', '₹14,999', '₹16,999', '₹14,499', '₹17,999', '₹13,999', '₹17,999', '₹8,521', '₹12,999', '₹15,999', '₹17,999', '₹15,999', '₹18,999'], 'rule_x6lj': ['₹12,499', '₹15,999', '₹10,999', '₹14,999', '₹12,499', '₹15,999', '₹10,999', '₹14,999', '₹14,499', '₹17,999', '₹10,999', '₹14,999', '₹14,499', '₹17,999', '₹10,999', '₹14,999', '₹12,999', '₹16,999', '₹12,499', '₹15,999', '₹17,499', '₹19,999', '₹18,999', '₹21,999', '₹14,999', '₹18,999', '₹15,999', '₹18,999', '₹14,999', '₹16,999', '₹8,799', '₹10,999', '₹8,799', '₹10,999', '₹15,999', '₹17,999', '₹14,999', '₹16,999', '₹14,499', '₹17,999', '₹13,999', '₹17,999', '₹8,521', '₹12,999', '₹15,999', '₹17,999', '₹15,999', '₹18,999'], 'rule_sq5n': ['₹12,499', '₹15,999', '₹10,999', '₹14,999', '₹12,499', '₹15,999', '₹10,999', '₹14,999', '₹14,499', '₹17,999', '₹10,999', '₹14,999', '₹14,499', '₹17,999', '₹10,999', '₹14,999', '₹12,999', '₹16,999', '₹12,499', '₹15,999', '₹17,499', '₹19,999', '₹18,999', '₹21,999', '₹14,999', '₹18,999', '₹15,999', '₹18,999', '₹14,999', '₹16,999', '₹8,799', '₹10,999', '₹8,799', '₹10,999', '₹15,999', '₹17,999', '₹14,999', '₹16,999', '₹14,499', '₹17,999', '₹13,999', '₹17,999', '₹8,521', '₹12,999', '₹15,999', '₹17,999', '₹15,999', '₹18,999'], 'rule_546i': ['26,551', '61,513', '26,551', '61,513', '26,551', '61,513', '26,551', '61,513', '21,066', '26,551', '3,571', '3,571', '64,620', '255', '255', '40,807', '40,807', '3,571', '255', '26,551', '53,384', '29', '3,571', '255'], 'rule_3lbg': ['26,551', '61,513', '26,551', '61,513', '26,551', '61,513', '26,551', '61,513', '21,066', '26,551', '3,571', '3,571', '64,620', '255', '255', '40,807', '40,807', '3,571', '255', '26,551', '53,384', '29', '3,571', '255'], 'rule_9mq7': ['26,551', '61,513', '26,551', '61,513', '26,551', '61,513', '26,551', '61,513', '21,066', '26,551', '3,571', '3,571', '64,620', '255', '255', '40,807', '40,807', '3,571', '255', '26,551', '53,384', '29', '3,571', '255'], 'rule_0cc6': ['26,551', '61,513', '26,551', '61,513', '26,551', '61,513', '26,551', '61,513', '21,066', '26,551', '3,571', '3,571', '64,620', '255', '255', '40,807', '40,807', '3,571', '255', '26,551', '53,384', '29', '3,571', '255']}\n"
          ],
          "name": "stdout"
        }
      ]
    },
    {
      "cell_type": "code",
      "metadata": {
        "colab": {
          "base_uri": "https://localhost:8080/"
        },
        "id": "wr3N1nekO397",
        "outputId": "caa1cf2b-3cea-4cec-930c-91911bde1a0b"
      },
      "source": [
        "keys = list(data.keys())\n",
        "print(keys)"
      ],
      "execution_count": null,
      "outputs": [
        {
          "output_type": "stream",
          "text": [
            "['rule_zhl0', 'rule_qxjp', 'rule_9j6b', 'rule_qxty', 'rule_e8qt', 'rule_syik', 'rule_uz0h', 'rule_gjh5', 'rule_998p', 'rule_yud0', 'rule_w1k9', 'rule_2vog', 'rule_cfpg', 'rule_x6lj', 'rule_sq5n', 'rule_546i', 'rule_3lbg', 'rule_9mq7', 'rule_0cc6']\n"
          ],
          "name": "stdout"
        }
      ]
    },
    {
      "cell_type": "markdown",
      "metadata": {
        "id": "AGZA_5NXMzI1"
      },
      "source": [
        "# Defining alias"
      ]
    },
    {
      "cell_type": "code",
      "metadata": {
        "id": "rjOUXn-zP4Da"
      },
      "source": [
        "scraper.set_rule_aliases({str(keys[0]):'ImageUrl',str(keys[1]):'Title',str(keys[3]):'Price',str(keys[15]):'stars'})\n",
        "scraper.save(\"amazon_in.json\")"
      ],
      "execution_count": null,
      "outputs": []
    },
    {
      "cell_type": "markdown",
      "metadata": {
        "id": "U7K-CCAWM9M4"
      },
      "source": [
        "# Testing for other search word"
      ]
    },
    {
      "cell_type": "code",
      "metadata": {
        "id": "_IDNV3LjRFLt"
      },
      "source": [
        "scraper_test = AutoScraper()\n",
        "scraper_test.load('amazon_in.json')"
      ],
      "execution_count": null,
      "outputs": []
    },
    {
      "cell_type": "code",
      "metadata": {
        "id": "nc7xg4NcQpky"
      },
      "source": [
        "search = \"realme phones\"\n",
        "real_url=\"https://www.amazon.in/s?k=realme+phones&i=electronics&rh=n%3A1389401031&s=price-desc-rank\".format(search)\n"
      ],
      "execution_count": null,
      "outputs": []
    },
    {
      "cell_type": "code",
      "metadata": {
        "id": "CWWwZRMUQ1CU"
      },
      "source": [
        "data_test = scraper_test.get_result_similar(real_url, group_by_alias=True)\n",
        "search_data = tuple(zip(data_test['Title'] , data_test['ImageUrl'] , data_test['Price'] , data_test['stars']))"
      ],
      "execution_count": null,
      "outputs": []
    },
    {
      "cell_type": "code",
      "metadata": {
        "id": "1UNtJmLZRrON"
      },
      "source": [
        "df = pd.DataFrame(columns=['searched_Query','Title','Price','stars','ImageUrl'])\n",
        "for i in range(len(search_data)):\n",
        "    df.loc[len(df)] = [search,search_data[i][0],search_data[i][2],search_data[i][3],search_data[i][1]]"
      ],
      "execution_count": null,
      "outputs": []
    },
    {
      "cell_type": "code",
      "metadata": {
        "colab": {
          "base_uri": "https://localhost:8080/",
          "height": 717
        },
        "id": "Sg8XP973SLx1",
        "outputId": "ae139d0d-e429-434f-95c2-7e0db0db3ff9"
      },
      "source": [
        "print(df.shape)\n",
        "df\n"
      ],
      "execution_count": null,
      "outputs": [
        {
          "output_type": "stream",
          "text": [
            "(21, 5)\n"
          ],
          "name": "stdout"
        },
        {
          "output_type": "execute_result",
          "data": {
            "text/html": [
              "<div>\n",
              "<style scoped>\n",
              "    .dataframe tbody tr th:only-of-type {\n",
              "        vertical-align: middle;\n",
              "    }\n",
              "\n",
              "    .dataframe tbody tr th {\n",
              "        vertical-align: top;\n",
              "    }\n",
              "\n",
              "    .dataframe thead th {\n",
              "        text-align: right;\n",
              "    }\n",
              "</style>\n",
              "<table border=\"1\" class=\"dataframe\">\n",
              "  <thead>\n",
              "    <tr style=\"text-align: right;\">\n",
              "      <th></th>\n",
              "      <th>searched_Query</th>\n",
              "      <th>Title</th>\n",
              "      <th>Price</th>\n",
              "      <th>stars</th>\n",
              "      <th>ImageUrl</th>\n",
              "    </tr>\n",
              "  </thead>\n",
              "  <tbody>\n",
              "    <tr>\n",
              "      <th>0</th>\n",
              "      <td>realme phones</td>\n",
              "      <td>Realme X50 Pro (Rust Red, 12GB RAM, 256GB Stor...</td>\n",
              "      <td>₹37,890</td>\n",
              "      <td>9</td>\n",
              "      <td>https://m.media-amazon.com/images/I/61D2+bCzY0...</td>\n",
              "    </tr>\n",
              "    <tr>\n",
              "      <th>1</th>\n",
              "      <td>realme phones</td>\n",
              "      <td>realme X7 Max 5G (Mercury Silver, 256 GB) (12 ...</td>\n",
              "      <td>₹48,999</td>\n",
              "      <td>49</td>\n",
              "      <td>https://m.media-amazon.com/images/I/41PTTjMGTB...</td>\n",
              "    </tr>\n",
              "    <tr>\n",
              "      <th>2</th>\n",
              "      <td>realme phones</td>\n",
              "      <td>realme X7 Max 5G (Android Black, 256 GB) (12 G...</td>\n",
              "      <td>₹32,999</td>\n",
              "      <td>12</td>\n",
              "      <td>https://m.media-amazon.com/images/I/312TQwC2YR...</td>\n",
              "    </tr>\n",
              "    <tr>\n",
              "      <th>3</th>\n",
              "      <td>realme phones</td>\n",
              "      <td>Realme X50 Pro (Moss Green, 12GB RAM, 256GB St...</td>\n",
              "      <td>₹34,999</td>\n",
              "      <td>99</td>\n",
              "      <td>https://m.media-amazon.com/images/I/61blpkX3jy...</td>\n",
              "    </tr>\n",
              "    <tr>\n",
              "      <th>4</th>\n",
              "      <td>realme phones</td>\n",
              "      <td>Realme X50 Pro (Rust Red, 8GB RAM, 128GB Storage)</td>\n",
              "      <td>₹32,999</td>\n",
              "      <td>62</td>\n",
              "      <td>https://m.media-amazon.com/images/I/61D2+bCzY0...</td>\n",
              "    </tr>\n",
              "    <tr>\n",
              "      <th>5</th>\n",
              "      <td>realme phones</td>\n",
              "      <td>Realme X2 Pro (Lunar White, 128 GB) (8 GB RAM)...</td>\n",
              "      <td>₹34,999</td>\n",
              "      <td>4</td>\n",
              "      <td>https://m.media-amazon.com/images/I/31y3H6HTas...</td>\n",
              "    </tr>\n",
              "    <tr>\n",
              "      <th>6</th>\n",
              "      <td>realme phones</td>\n",
              "      <td>Realme X2 Pro (Neptune Blue, 8GB RAM, 128GB St...</td>\n",
              "      <td>₹31,990</td>\n",
              "      <td>691</td>\n",
              "      <td>https://m.media-amazon.com/images/I/51GTmBX4sT...</td>\n",
              "    </tr>\n",
              "    <tr>\n",
              "      <th>7</th>\n",
              "      <td>realme phones</td>\n",
              "      <td>Realme X2 Pro (Lunar White, 8GB RAM, 128GB Sto...</td>\n",
              "      <td>₹48,999</td>\n",
              "      <td>13</td>\n",
              "      <td>https://m.media-amazon.com/images/I/51EyF8Dpxw...</td>\n",
              "    </tr>\n",
              "    <tr>\n",
              "      <th>8</th>\n",
              "      <td>realme phones</td>\n",
              "      <td>Mi 11X 5G Cosmic Black 6GB RAM 128GB ROM | SD ...</td>\n",
              "      <td>₹30,999</td>\n",
              "      <td>29</td>\n",
              "      <td>https://m.media-amazon.com/images/I/71VQXjN6R7...</td>\n",
              "    </tr>\n",
              "    <tr>\n",
              "      <th>9</th>\n",
              "      <td>realme phones</td>\n",
              "      <td>realme X7 Max 5G (Android Black, 128 GB) (8 GB...</td>\n",
              "      <td>₹31,999</td>\n",
              "      <td>2</td>\n",
              "      <td>https://m.media-amazon.com/images/I/312TQwC2YR...</td>\n",
              "    </tr>\n",
              "    <tr>\n",
              "      <th>10</th>\n",
              "      <td>realme phones</td>\n",
              "      <td>realme X7 Pro Fantasy, 8 GB RAM, 128 GB Storage</td>\n",
              "      <td>₹30,990</td>\n",
              "      <td>5</td>\n",
              "      <td>https://m.media-amazon.com/images/I/41E6sCbEff...</td>\n",
              "    </tr>\n",
              "    <tr>\n",
              "      <th>11</th>\n",
              "      <td>realme phones</td>\n",
              "      <td>Realme X50 Pro (Moss Green, 8GB RAM, 128GB Sto...</td>\n",
              "      <td>₹31,999</td>\n",
              "      <td>16</td>\n",
              "      <td>https://m.media-amazon.com/images/I/61blpkX3jy...</td>\n",
              "    </tr>\n",
              "    <tr>\n",
              "      <th>12</th>\n",
              "      <td>realme phones</td>\n",
              "      <td>(Renewed) Realme X50 Pro (Rust Red, 8GB RAM, 1...</td>\n",
              "      <td>₹30,799</td>\n",
              "      <td>274</td>\n",
              "      <td>https://m.media-amazon.com/images/I/51vS493RWG...</td>\n",
              "    </tr>\n",
              "    <tr>\n",
              "      <th>13</th>\n",
              "      <td>realme phones</td>\n",
              "      <td>Realme X3 SuperZoom (Arctic White, 256 GB) (8 ...</td>\n",
              "      <td>₹31,999</td>\n",
              "      <td>1</td>\n",
              "      <td>https://m.media-amazon.com/images/I/3199a0r7s4...</td>\n",
              "    </tr>\n",
              "    <tr>\n",
              "      <th>14</th>\n",
              "      <td>realme phones</td>\n",
              "      <td>Realme X3 SuperZoom (Arctic White, 128 GB) (8 ...</td>\n",
              "      <td>₹29,999</td>\n",
              "      <td>7</td>\n",
              "      <td>https://m.media-amazon.com/images/I/41-2i8URcU...</td>\n",
              "    </tr>\n",
              "    <tr>\n",
              "      <th>15</th>\n",
              "      <td>realme phones</td>\n",
              "      <td>OPPO F19 Pro (Fluid Black, 8GB RAM, 256GB Stor...</td>\n",
              "      <td>₹33,999</td>\n",
              "      <td>9</td>\n",
              "      <td>https://m.media-amazon.com/images/I/712PBW8cGB...</td>\n",
              "    </tr>\n",
              "    <tr>\n",
              "      <th>16</th>\n",
              "      <td>realme phones</td>\n",
              "      <td>(Renewed) Realme X2 Pro (Neptune Blue, 64 GB) ...</td>\n",
              "      <td>₹29,999</td>\n",
              "      <td>274</td>\n",
              "      <td>https://m.media-amazon.com/images/I/51soQUVt-c...</td>\n",
              "    </tr>\n",
              "    <tr>\n",
              "      <th>17</th>\n",
              "      <td>realme phones</td>\n",
              "      <td>realme 8 Pro (Infinite Black, 128 GB) (8 GB RAM)</td>\n",
              "      <td>₹32,999</td>\n",
              "      <td>7</td>\n",
              "      <td>https://m.media-amazon.com/images/I/419gmiIp7c...</td>\n",
              "    </tr>\n",
              "    <tr>\n",
              "      <th>18</th>\n",
              "      <td>realme phones</td>\n",
              "      <td>Realme 8 Pro (Infinite Black, 8GB RAM, 128GB S...</td>\n",
              "      <td>₹28,990</td>\n",
              "      <td>31</td>\n",
              "      <td>https://m.media-amazon.com/images/I/7106Aw3lDv...</td>\n",
              "    </tr>\n",
              "    <tr>\n",
              "      <th>19</th>\n",
              "      <td>realme phones</td>\n",
              "      <td>OPPO F19 Pro (Fluid Black, 8GB RAM, 128GB Stor...</td>\n",
              "      <td>₹42,999</td>\n",
              "      <td>6</td>\n",
              "      <td>https://m.media-amazon.com/images/I/712PBW8cGB...</td>\n",
              "    </tr>\n",
              "    <tr>\n",
              "      <th>20</th>\n",
              "      <td>realme phones</td>\n",
              "      <td>Realme 7 Pro (Mirror Silver, 8GB RAM, 128GB St...</td>\n",
              "      <td>₹28,790</td>\n",
              "      <td>55,361</td>\n",
              "      <td>https://m.media-amazon.com/images/I/41+YvnNeAJ...</td>\n",
              "    </tr>\n",
              "  </tbody>\n",
              "</table>\n",
              "</div>"
            ],
            "text/plain": [
              "   searched_Query  ...                                           ImageUrl\n",
              "0   realme phones  ...  https://m.media-amazon.com/images/I/61D2+bCzY0...\n",
              "1   realme phones  ...  https://m.media-amazon.com/images/I/41PTTjMGTB...\n",
              "2   realme phones  ...  https://m.media-amazon.com/images/I/312TQwC2YR...\n",
              "3   realme phones  ...  https://m.media-amazon.com/images/I/61blpkX3jy...\n",
              "4   realme phones  ...  https://m.media-amazon.com/images/I/61D2+bCzY0...\n",
              "5   realme phones  ...  https://m.media-amazon.com/images/I/31y3H6HTas...\n",
              "6   realme phones  ...  https://m.media-amazon.com/images/I/51GTmBX4sT...\n",
              "7   realme phones  ...  https://m.media-amazon.com/images/I/51EyF8Dpxw...\n",
              "8   realme phones  ...  https://m.media-amazon.com/images/I/71VQXjN6R7...\n",
              "9   realme phones  ...  https://m.media-amazon.com/images/I/312TQwC2YR...\n",
              "10  realme phones  ...  https://m.media-amazon.com/images/I/41E6sCbEff...\n",
              "11  realme phones  ...  https://m.media-amazon.com/images/I/61blpkX3jy...\n",
              "12  realme phones  ...  https://m.media-amazon.com/images/I/51vS493RWG...\n",
              "13  realme phones  ...  https://m.media-amazon.com/images/I/3199a0r7s4...\n",
              "14  realme phones  ...  https://m.media-amazon.com/images/I/41-2i8URcU...\n",
              "15  realme phones  ...  https://m.media-amazon.com/images/I/712PBW8cGB...\n",
              "16  realme phones  ...  https://m.media-amazon.com/images/I/51soQUVt-c...\n",
              "17  realme phones  ...  https://m.media-amazon.com/images/I/419gmiIp7c...\n",
              "18  realme phones  ...  https://m.media-amazon.com/images/I/7106Aw3lDv...\n",
              "19  realme phones  ...  https://m.media-amazon.com/images/I/712PBW8cGB...\n",
              "20  realme phones  ...  https://m.media-amazon.com/images/I/41+YvnNeAJ...\n",
              "\n",
              "[21 rows x 5 columns]"
            ]
          },
          "metadata": {
            "tags": []
          },
          "execution_count": 83
        }
      ]
    },
    {
      "cell_type": "code",
      "metadata": {
        "id": "w4hroLEKYy2b"
      },
      "source": [
        "df.to_csv(\"amazon_phoness.csv\")"
      ],
      "execution_count": null,
      "outputs": []
    }
  ]
}